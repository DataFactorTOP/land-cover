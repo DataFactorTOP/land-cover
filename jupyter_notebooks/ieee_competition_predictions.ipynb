{
 "cells": [
  {
   "cell_type": "code",
   "execution_count": 2,
   "metadata": {},
   "outputs": [
    {
     "name": "stdout",
     "output_type": "stream",
     "text": [
      "0: 9.285267177991887e-05% (60 occurrences)\n",
      "1: 43.293884463049096% (27975857 occurrences)\n",
      "2: 0.1546940987298745% (99961 occurrences)\n",
      "4: 8.479482407018573% (5479314 occurrences)\n",
      "6: 5.001699513402478% (3232023 occurrences)\n",
      "7: 1.1778345939837411% (761099 occurrences)\n",
      "9: 0.1687256849803499% (109028 occurrences)\n",
      "10: 41.72358638616411% (26961154 occurrences)\n"
     ]
    }
   ],
   "source": [
    "import os\n",
    "import numpy as np\n",
    "import imageio\n",
    "from collections import defaultdict\n",
    "\n",
    "# competition_predictions_dir = '/data/lucas/sen12ms_competition_predictions/sen12ms_all-scenes_FC-DenseNet'\n",
    "competition_predictions_dir = '/data/lucas/sen12ms_competition_predictions/sen12ms_all-scenes_s1-s2_kmeans-label-smoothing_ignore-3-8_unet'\n",
    "\n",
    "label_freqs = defaultdict(int)\n",
    "\n",
    "for season in os.listdir(competition_predictions_dir):\n",
    "    for scene in os.listdir(os.path.join(competition_predictions_dir, season)):\n",
    "        for patch in os.listdir(os.path.join(competition_predictions_dir, season, scene)):\n",
    "            if not patch.endswith('.tif'):\n",
    "                continue\n",
    "            preds = imageio.imread(os.path.join(competition_predictions_dir, season, scene, patch))\n",
    "            labels, counts = np.unique(preds, return_counts=True)\n",
    "            for label, count in zip(labels, counts):\n",
    "                label_freqs[label] += count\n",
    "\n",
    "total = np.sum(list(label_freqs.values()))\n",
    "for label in sorted(label_freqs.keys()):\n",
    "    print('{}: {}% ({} occurrences)'.format(label, 100*label_freqs[label]/total, label_freqs[label]))"
   ]
  },
  {
   "cell_type": "code",
   "execution_count": null,
   "metadata": {},
   "outputs": [],
   "source": []
  }
 ],
 "metadata": {
  "kernelspec": {
   "display_name": "Python 3",
   "language": "python",
   "name": "python3"
  },
  "language_info": {
   "codemirror_mode": {
    "name": "ipython",
    "version": 3
   },
   "file_extension": ".py",
   "mimetype": "text/x-python",
   "name": "python",
   "nbconvert_exporter": "python",
   "pygments_lexer": "ipython3",
   "version": "3.6.9"
  }
 },
 "nbformat": 4,
 "nbformat_minor": 2
}
