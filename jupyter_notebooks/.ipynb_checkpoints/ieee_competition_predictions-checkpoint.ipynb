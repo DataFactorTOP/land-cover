{
 "cells": [
  {
   "cell_type": "code",
   "execution_count": 13,
   "metadata": {},
   "outputs": [
    {
     "name": "stdout",
     "output_type": "stream",
     "text": [
      "1: 9.895805993379977% (6394521 occurrences)\n",
      "2: 0.5972856440360358% (385957 occurrences)\n",
      "3: 11.425516619885427% (7382997 occurrences)\n",
      "4: 34.82153159367869% (22501150 occurrences)\n",
      "5: 0.5174385364834242% (334361 occurrences)\n",
      "6: 2.115242669838679% (1366838 occurrences)\n",
      "7: 7.631135518845873% (4931125 occurrences)\n",
      "9: 0.45714465406313387% (295400 occurrences)\n",
      "10: 32.53889876978876% (21026147 occurrences)\n"
     ]
    }
   ],
   "source": [
    "import os\n",
    "import numpy as np\n",
    "import imageio\n",
    "from collections import defaultdict\n",
    "\n",
    "# competition_predictions_dir = '/data/lucas/sen12ms_competition_predictions/sen12ms_all-scenes_FC-DenseNet'\n",
    "competition_predictions_dir = '/data/lucas/sen12ms_competition_predictions/sen12ms_all-scenes_label-smoothing-0.1_FC-DenseNet'\n",
    "\n",
    "label_freqs = defaultdict(int)\n",
    "\n",
    "for season in os.listdir(competition_predictions_dir):\n",
    "    for scene in os.listdir(os.path.join(competition_predictions_dir, season)):\n",
    "        for patch in os.listdir(os.path.join(competition_predictions_dir, season, scene)):\n",
    "            if not patch.endswith('.tif'):\n",
    "                continue\n",
    "            preds = imageio.imread(os.path.join(competition_predictions_dir, season, scene, patch))\n",
    "            labels, counts = np.unique(preds, return_counts=True)\n",
    "            for label, count in zip(labels, counts):\n",
    "                label_freqs[label] += count\n",
    "\n",
    "total = np.sum(list(label_freqs.values()))\n",
    "for label in sorted(label_freqs.keys()):\n",
    "    print('{}: {}% ({} occurrences)'.format(label, 100*label_freqs[label]/total, label_freqs[label]))"
   ]
  },
  {
   "cell_type": "code",
   "execution_count": null,
   "metadata": {},
   "outputs": [],
   "source": []
  }
 ],
 "metadata": {
  "kernelspec": {
   "display_name": "Python 3",
   "language": "python",
   "name": "python3"
  },
  "language_info": {
   "codemirror_mode": {
    "name": "ipython",
    "version": 3
   },
   "file_extension": ".py",
   "mimetype": "text/x-python",
   "name": "python",
   "nbconvert_exporter": "python",
   "pygments_lexer": "ipython3",
   "version": "3.7.3"
  }
 },
 "nbformat": 4,
 "nbformat_minor": 2
}
